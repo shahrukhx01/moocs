{
 "cells": [
  {
   "cell_type": "code",
   "execution_count": 85,
   "metadata": {
    "collapsed": true
   },
   "outputs": [],
   "source": [
    "import numpy as np\n",
    "import pandas as pd"
   ]
  },
  {
   "cell_type": "code",
   "execution_count": 99,
   "metadata": {},
   "outputs": [],
   "source": [
    "X = np.array([[1.00000,0.84147,0.54030], [1.00000,0.59847,-0.80114], [1.00000,-0.75680,-0.65364], [1.00000,-0.70554,0.70867], [1.00000,0.65699,0.75390], [1.00000,0.79849,-0.60201], [1.00000,-0.54402,-0.83907], [1.00000,-0.87545,0.48330], [1.00000,0.42017,0.90745], [1.00000,0.93490,-0.35492]])\n",
    "y = np.array([0.8414710 ,-0.7568025 , 0.6569866 ,-0.5440211 , 0.4201670 ,-0.2879033 , 0.1498772 ,-0.0088513 ,-0.1323518 , 0.2709058])\n",
    "Xval = np.array([[1.00000,0.00000,1.00000], [1.00000,0.99749,0.07074], [1.00000,0.14112,-0.98999], [1.00000,-0.97753,-0.21080], [1.00000,-0.27942,0.96017], [1.00000,0.93800,0.34664], [1.00000,0.41212,-0.91113], [1.00000,-0.87970,-0.47554], [1.00000,-0.53657,0.84385], [1.00000,0.80378,0.59492]])\n",
    "yval = np.array([0.84147 ,0.90930 ,0.14112 ,-0.75680 ,-0.95892 ,-0.27942 ,0.65699 ,0.98936 ,0.41212 ,-0.54402])\n",
    "theta = np.array([0.10000 ,0.20000 ,0.30000])"
   ]
  },
  {
   "cell_type": "code",
   "execution_count": 97,
   "metadata": {
    "collapsed": true
   },
   "outputs": [],
   "source": [
    "def computeCost(theta,X, y,lambda_):\n",
    "    m = len(y)\n",
    "    theta_reg = np.insert(theta, 1, 0, axis=0)[1:]\n",
    "    J = 0\n",
    "    h_theta = X.dot(theta) \n",
    "    J = (1/(2*m)) * np.sum(np.power((h_theta-y), 2)) + (lambda_/(2*m))*np.transpose(theta_reg).dot(theta_reg)\n",
    "    return J"
   ]
  },
  {
   "cell_type": "code",
   "execution_count": 96,
   "metadata": {
    "collapsed": true
   },
   "outputs": [],
   "source": [
    "def computeGradient(theta,X, y,lambda_):\n",
    "    m = len(y)\n",
    "    grad = np.zeros(len(theta))\n",
    "    theta_reg = np.insert(theta, 1, 0, axis=0)[1:]\n",
    "    grad = (1/m)*(np.transpose(((X.dot(theta))-y)).dot(X)) + ((lambda_/m) * theta_reg)\n",
    "    return grad"
   ]
  },
  {
   "cell_type": "code",
   "execution_count": 95,
   "metadata": {
    "collapsed": true
   },
   "outputs": [],
   "source": [
    "import scipy.optimize as opt\n",
    "def advanceOptimization(X,y,theta,costFunc,gradientFunc,lambda_):\n",
    "    result = opt.fmin_tnc(func=costFunc, x0=theta, fprime=gradientFunc, args=(X, y,lambda_))  \n",
    "    return result[0]"
   ]
  },
  {
   "cell_type": "code",
   "execution_count": 94,
   "metadata": {
    "collapsed": true
   },
   "outputs": [],
   "source": [
    "def learningCurve(X,y,Xval,yval,lambda_):\n",
    "    train_error = np.zeros(len(y))\n",
    "    val_error = np.zeros(len(y))\n",
    "    for i in range(1,len(y)+1):\n",
    "        theta = np.zeros(3)\n",
    "        theta = advanceOptimization(X[:i],y[:i],theta,computeCost,computeGradient,lambda_)\n",
    "        train_error[i-1]= computeCost(theta,X[:i],y[:i],0)\n",
    "        val_error[i-1]= computeCost(theta,Xval,yval,0)\n",
    "    return (np.round(train_error,5),np.round(val_error,5))       "
   ]
  },
  {
   "cell_type": "code",
   "execution_count": 92,
   "metadata": {
    "collapsed": true
   },
   "outputs": [],
   "source": [
    "def polyFeatures(X,p):\n",
    "    X_poly = np.zeros((len(X), p))\n",
    "    for i in range(X.shape[0]):\n",
    "         X_poly[i] = np.array([np.power(X[i],x) for x in range(1,p+1)])\n",
    "    return np.round(X_poly,5)"
   ]
  },
  {
   "cell_type": "code",
   "execution_count": 91,
   "metadata": {},
   "outputs": [],
   "source": [
    "def validationCurve(X, y, Xval, yval):\n",
    "    m = len(y)\n",
    "    lambda_vec = np.array([0, 0.001,0.003,0.01,0.03,0.1,0.3,1, 3, 10])\n",
    "    train_error = np.zeros(len(y))\n",
    "    val_error = np.zeros(len(y))\n",
    "    for i in range(len(lambda_vec)):\n",
    "        theta = np.zeros(3)\n",
    "        theta = advanceOptimization(X,y,theta,computeCost,computeGradient,lambda_vec[i])\n",
    "        train_error[i-1]= computeCost(theta,X,y,0)\n",
    "        val_error[i-1]= computeCost(theta,Xval,yval,0)\n",
    "    return (np.round(train_error,5),np.round(val_error,5))   "
   ]
  }
 ],
 "metadata": {
  "kernelspec": {
   "display_name": "Python 3",
   "language": "python",
   "name": "python3"
  },
  "language_info": {
   "codemirror_mode": {
    "name": "ipython",
    "version": 3
   },
   "file_extension": ".py",
   "mimetype": "text/x-python",
   "name": "python",
   "nbconvert_exporter": "python",
   "pygments_lexer": "ipython3",
   "version": "3.6.3"
  }
 },
 "nbformat": 4,
 "nbformat_minor": 2
}
