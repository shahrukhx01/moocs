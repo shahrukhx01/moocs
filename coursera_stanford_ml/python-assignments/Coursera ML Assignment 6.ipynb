{
 "cells": [
  {
   "cell_type": "code",
   "execution_count": 29,
   "metadata": {},
   "outputs": [],
   "source": [
    "import numpy as np\n",
    "import pandas as pd\n",
    "x1 = [0.84147 ,0.90930 ,0.14112 ,-0.75680 ,-0.95892 ,-0.27942 ,0.65699 ,0.98936 ,0.41212 ,-0.54402]\n",
    "x2 = [0.54030 ,-0.41615 ,-0.98999 ,-0.65364 ,0.28366 ,0.96017 ,0.75390 ,-0.14550 ,-0.91113 ,-0.83907]\n",
    "sigma = 2\n",
    "vocab = pd.read_csv('vocab.txt',delimiter='\\t', names=['index','word'], index_col='index')"
   ]
  },
  {
   "cell_type": "code",
   "execution_count": 8,
   "metadata": {},
   "outputs": [],
   "source": [
    "def gaussianKernel(x1, x2, sigma):\n",
    "    return np.exp(-np.subtract(x1,x2).dot(np.transpose(np.subtract(x1,x2))) / (2*(sigma**2)))"
   ]
  },
  {
   "cell_type": "code",
   "execution_count": 26,
   "metadata": {},
   "outputs": [],
   "source": [
    "def processEmail(str_):\n",
    "    word_indices =[]\n",
    "    for index, row in vocab.iterrows():\n",
    "        if row['word'] == str_:\n",
    "            word_indices.append(index)\n",
    "    return word_indices\n",
    "        "
   ]
  },
  {
   "cell_type": "code",
   "execution_count": 32,
   "metadata": {},
   "outputs": [],
   "source": [
    "def emailFeatures(word_indices):\n",
    "    n = 1899\n",
    "    x = np.zeros((n, 1))\n",
    "    for i in range(len(word_indices)):\n",
    "        x[word_indices[i]] = 1\n",
    "    return x"
   ]
  },
  {
   "cell_type": "code",
   "execution_count": 33,
   "metadata": {},
   "outputs": [
    {
     "data": {
      "text/plain": [
       "array([[ 0.],\n",
       "       [ 0.],\n",
       "       [ 0.],\n",
       "       ..., \n",
       "       [ 1.],\n",
       "       [ 0.],\n",
       "       [ 0.]])"
      ]
     },
     "execution_count": 33,
     "metadata": {},
     "output_type": "execute_result"
    }
   ],
   "source": [
    "word_indices = [86,916,794,1077,883,370,1699,790,1822,1831,883,431,1171,794,1002,1893,1364,592,1676,238,162,89,688,945,1663,1120,1062,1699,375,1162,479,1893,1510,799,1182,1237,810,1895,1440,1547,181,1699,1758,1896,688,1676,992,961,1477,71,530,1699,531]\n",
    "emailFeatures(word_indices)"
   ]
  }
 ],
 "metadata": {
  "kernelspec": {
   "display_name": "Python 3",
   "language": "python",
   "name": "python3"
  },
  "language_info": {
   "codemirror_mode": {
    "name": "ipython",
    "version": 3
   },
   "file_extension": ".py",
   "mimetype": "text/x-python",
   "name": "python",
   "nbconvert_exporter": "python",
   "pygments_lexer": "ipython3",
   "version": "3.6.3"
  }
 },
 "nbformat": 4,
 "nbformat_minor": 2
}
