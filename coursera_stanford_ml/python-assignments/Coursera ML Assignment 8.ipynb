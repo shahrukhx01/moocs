{
 "cells": [
  {
   "cell_type": "code",
   "execution_count": 70,
   "metadata": {
    "collapsed": true
   },
   "outputs": [],
   "source": [
    "import numpy as np\n",
    "\n",
    "X = np.array([[0.84147,-0.95892, 0.41212, 0.42017,-0.96140], [0.90930,-0.27942,-0.54402, 0.99061,-0.75099], [0.14112, 0.65699,-0.99999, 0.65029, 0.14988], [-0.75680, 0.98936,-0.53657,-0.28790, 0.91295]])\n",
    "pval = np.array([0.8414710 ,0.1411200 ,0.9589243 ,0.6569866 ,0.4121185 ,0.9999902 ,0.4201670 ,0.6502878 ,0.9613975 ,0.1498772 ,0.8366556 ,0.8462204 ,0.0010000 ,1.0000000])\n",
    "yval = np.array([1 ,0 ,0 ,1 ,0 ,0 ,0 ,1 ,0 ,0 ,1 ,0 ,1 ,0])\n",
    "X_rec = np.array([[0.84147,-0.95892,0.41212,0.42017,-0.96140],[0.90930,-0.27942,-0.54402,0.99061,-0.75099],[0.14112,0.65699,-0.99999,0.65029,0.14988],[-0.75680,0.98936,-0.53657,-0.28790,0.91295]])\n",
    "Theta = np.array([[0.5403023,-0.6536436,0.7539023,-0.8390715,0.9074468],[-0.4161468,0.2836622,-0.1455000,0.0044257,0.1367372],[-0.9899925,0.9601703,-0.9111303,0.8438540,-0.7596879]])\n",
    "num_users = 3\n",
    "num_movies = 4\n",
    "num_features = 5\n",
    "lambda_ = 0\n",
    "R = np.array([[1,0,0],[0,0,0],[0,0,1],[1,1,0]])\n",
    "Y = np.array([[0.84147,0.00000,-0.00000],[0.00000,-0.00000,0.00000],[-0.00000,0.00000,0.83666],[0.65699,0.65029,-0.00000]])"
   ]
  },
  {
   "cell_type": "code",
   "execution_count": 48,
   "metadata": {},
   "outputs": [],
   "source": [
    "def estimateGaussian(X):\n",
    "    m, n = X.shape\n",
    "    mu = np.zeros((n, 1))\n",
    "    sigma2 = np.zeros((n, 1))\n",
    "    mu = (1/m)* np.sum(X,axis=0)\n",
    "    for i in range(m):\n",
    "        sigma2[i] = (1/m)*np.transpose(X[:,i] - mu[i]).dot(X[:,i] - mu[i])\n",
    "    return mu,sigma2.flatten()"
   ]
  },
  {
   "cell_type": "code",
   "execution_count": 63,
   "metadata": {},
   "outputs": [],
   "source": [
    "def selectThreshold(yval, pval):\n",
    "    bestEpsilon = 0\n",
    "    bestF1 = 0\n",
    "    F1 = 0\n",
    "    stepsize = (max(pval) - min(pval)) / 1000\n",
    "    m = yval.shape[0]\n",
    "    epsilon = min(pval)\n",
    "    while epsilon <= max(pval):\n",
    "        epsilon = epsilon + stepsize\n",
    "        y_pred = np.ones((m,1))\n",
    "        y_pred = pval < epsilon\n",
    "        tp = np.sum((y_pred == 1) & (yval == 1))\n",
    "        tn = np.sum((y_pred == 0) & (yval == 0))\n",
    "        fp = np.sum((y_pred == 1) & (yval == 0))\n",
    "        fn = np.sum((y_pred == 0) & (yval == 1))\n",
    "        prec = tp / (tp+fp)\n",
    "        rec= tp/(tp+fn)\n",
    "        F1 = (2*prec*rec)/(prec + rec)\n",
    "        if F1 > bestF1:\n",
    "             bestF1 = F1\n",
    "             bestEpsilon = epsilon\n",
    "    return bestEpsilon,bestF1"
   ]
  },
  {
   "cell_type": "code",
   "execution_count": 97,
   "metadata": {},
   "outputs": [],
   "source": [
    "def cofiCostFunc(X, Theta, Y, R, num_users, num_movies, num_features, lambda_):\n",
    "    J = 0\n",
    "    X_grad = np.zeros(X.shape)\n",
    "    Theta_grad = np.zeros(Theta.shape)\n",
    "    h_theta_temp = np.multiply(X.dot(np.transpose(Theta)),R)\n",
    "    J = ((1/2)*np.transpose((h_theta_temp - Y).flatten()).dot((h_theta_temp - Y).flatten()) + \n",
    "    (lambda_/2)* np.transpose(Theta.flatten()).dot(Theta.flatten()) + \n",
    "    (lambda_/2)* np.transpose(X.flatten()).dot(X.flatten())) \n",
    "    Theta_grad = np.transpose(h_theta_temp - Y).dot(X) + lambda_*(Theta)\n",
    "    X_grad = (h_theta_temp - Y).dot(Theta) + lambda_*X\n",
    "    return J,X_grad,Theta_grad"
   ]
  }
 ],
 "metadata": {
  "kernelspec": {
   "display_name": "Python 3",
   "language": "python",
   "name": "python3"
  },
  "language_info": {
   "codemirror_mode": {
    "name": "ipython",
    "version": 3
   },
   "file_extension": ".py",
   "mimetype": "text/x-python",
   "name": "python",
   "nbconvert_exporter": "python",
   "pygments_lexer": "ipython3",
   "version": "3.6.3"
  }
 },
 "nbformat": 4,
 "nbformat_minor": 2
}
