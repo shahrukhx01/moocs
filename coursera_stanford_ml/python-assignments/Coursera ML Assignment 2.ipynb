{
 "cells": [
  {
   "cell_type": "code",
   "execution_count": 1,
   "metadata": {
    "collapsed": true
   },
   "outputs": [],
   "source": [
    "import numpy as np\n",
    "import pandas as pd"
   ]
  },
  {
   "cell_type": "code",
   "execution_count": 5,
   "metadata": {},
   "outputs": [],
   "source": [
    "df = pd.read_csv('data.csv',names=['x1','x2','y'])"
   ]
  },
  {
   "cell_type": "code",
   "execution_count": 6,
   "metadata": {
    "collapsed": true
   },
   "outputs": [],
   "source": [
    "df['x0'] = 1"
   ]
  },
  {
   "cell_type": "code",
   "execution_count": 7,
   "metadata": {
    "collapsed": true
   },
   "outputs": [],
   "source": [
    "X = df[['x0','x1','x2']].values\n",
    "y = df['y'].values\n",
    "theta = np.zeros(3)"
   ]
  },
  {
   "cell_type": "code",
   "execution_count": 10,
   "metadata": {},
   "outputs": [],
   "source": [
    "def sigmoid(z):\n",
    "    return np.divide(1.0, (1+np.exp(-z)))"
   ]
  },
  {
   "cell_type": "code",
   "execution_count": 24,
   "metadata": {},
   "outputs": [],
   "source": [
    "def costFunction(theta, X, y):\n",
    "    m = len(y)\n",
    "    J = 0\n",
    "    h_theta = sigmoid(X.dot(theta))\n",
    "    J = (-1/m)*((np.transpose(y).dot(np.log(h_theta))) + (np.transpose(1-y).dot(np.log(1-h_theta))))\n",
    "    return J"
   ]
  },
  {
   "cell_type": "code",
   "execution_count": 28,
   "metadata": {
    "collapsed": true
   },
   "outputs": [],
   "source": [
    "def gradientFunction(theta, X, y):\n",
    "    m = len(y)\n",
    "    grad = np.zeros(len(theta))\n",
    "    h_theta = sigmoid(X.dot(theta))\n",
    "    grad = (1/m)*np.transpose(h_theta-y).dot(X)\n",
    "    return grad"
   ]
  },
  {
   "cell_type": "code",
   "execution_count": 30,
   "metadata": {},
   "outputs": [],
   "source": [
    "import scipy.optimize as opt \n",
    "def advanceOptimization(X,y,theta,costFunc,gradientFunc):\n",
    "    result = opt.fmin_tnc(func=costFunc, x0=theta, fprime=gradientFunc, args=(X, y))  \n",
    "    return result[0]\n",
    "new_theta = advanceOptimization(X,y,theta,costFunction,gradientFunction)"
   ]
  },
  {
   "cell_type": "code",
   "execution_count": 42,
   "metadata": {},
   "outputs": [],
   "source": [
    "#predicting for a student\n",
    "prob = sigmoid(np.array([1,45,85]).dot(new_theta));"
   ]
  },
  {
   "cell_type": "code",
   "execution_count": 54,
   "metadata": {},
   "outputs": [],
   "source": [
    "def costFunctionRegularized(theta, X, y, lambda_):\n",
    "    m = len(y)\n",
    "    J = 0\n",
    "    h_theta = sigmoid(X.dot(theta))\n",
    "    theta_reg = np.insert(theta, 1, 0, axis=0)[1:]\n",
    "    J = (-1/m)*((np.transpose(y).dot(np.log(h_theta))) + (np.transpose(1-y).dot(np.log(1-h_theta)))) + (lambda_/(2*m))*np.transpose(theta_reg).dot(theta_reg)\n",
    "    return J"
   ]
  },
  {
   "cell_type": "code",
   "execution_count": 55,
   "metadata": {},
   "outputs": [],
   "source": [
    "def gradientFunctionRegularized(theta, X, y,lambda_):\n",
    "    m = len(y)\n",
    "    grad = np.zeros(len(theta))\n",
    "    h_theta = sigmoid(X.dot(theta))\n",
    "    theta_reg = np.insert(theta, 1, 0, axis=0)[1:]\n",
    "    grad = (1/m)*np.transpose(h_theta-y).dot(X) + ((lambda_/m) * theta_reg)\n",
    "    return grad"
   ]
  }
 ],
 "metadata": {
  "kernelspec": {
   "display_name": "Python 3",
   "language": "python",
   "name": "python3"
  },
  "language_info": {
   "codemirror_mode": {
    "name": "ipython",
    "version": 3
   },
   "file_extension": ".py",
   "mimetype": "text/x-python",
   "name": "python",
   "nbconvert_exporter": "python",
   "pygments_lexer": "ipython3",
   "version": "3.6.3"
  }
 },
 "nbformat": 4,
 "nbformat_minor": 2
}
