{
 "cells": [
  {
   "cell_type": "code",
   "execution_count": 2,
   "metadata": {
    "collapsed": true
   },
   "outputs": [],
   "source": [
    "import numpy as np\n",
    "import pandas as pd"
   ]
  },
  {
   "cell_type": "code",
   "execution_count": 25,
   "metadata": {},
   "outputs": [],
   "source": [
    "df = pd.read_csv('ex1data1.txt',names=['X','y'])"
   ]
  },
  {
   "cell_type": "code",
   "execution_count": 29,
   "metadata": {},
   "outputs": [],
   "source": [
    "df['X0'] = 1"
   ]
  },
  {
   "cell_type": "code",
   "execution_count": 62,
   "metadata": {},
   "outputs": [],
   "source": [
    "X = df[['X0','X']].values\n",
    "y = df['y'].values\n",
    "theta = np.zeros(2)\n",
    "iterations = 1500;\n",
    "alpha = 0.01;"
   ]
  },
  {
   "cell_type": "code",
   "execution_count": 44,
   "metadata": {},
   "outputs": [],
   "source": [
    "def computeCost(X, y, theta):\n",
    "    m = len(y)\n",
    "    J = 0\n",
    "    h_theta = X.dot(theta) \n",
    "    J = (1/(2*m)) * np.sum(np.power((h_theta-y), 2))\n",
    "    return J"
   ]
  },
  {
   "cell_type": "code",
   "execution_count": 66,
   "metadata": {
    "collapsed": true
   },
   "outputs": [],
   "source": [
    "def gradientDescent(X, y, theta, alpha, num_iters):\n",
    "    m = len(y) # number of training examples\n",
    "    J_history = np.zeros(num_iters)\n",
    "    for iteration in range(num_iters):\n",
    "        delta = (alpha/m)*(np.transpose(((X.dot(theta))-y)).dot(X))\n",
    "        theta = theta - np.transpose(delta)\n",
    "        J_history[iteration] = computeCost(X, y, theta)\n",
    "    return (J_history,theta)"
   ]
  },
  {
   "cell_type": "code",
   "execution_count": 67,
   "metadata": {},
   "outputs": [
    {
     "data": {
      "text/plain": [
       "(array([ 6.73719046,  5.93159357,  5.90115471, ...,  4.48343473,\n",
       "         4.48341145,  4.48338826]), array([-3.63029144,  1.16636235]))"
      ]
     },
     "execution_count": 67,
     "metadata": {},
     "output_type": "execute_result"
    }
   ],
   "source": [
    "gradientDescent(X, y, theta, alpha, iterations)"
   ]
  }
 ],
 "metadata": {
  "kernelspec": {
   "display_name": "Python 3",
   "language": "python",
   "name": "python3"
  },
  "language_info": {
   "codemirror_mode": {
    "name": "ipython",
    "version": 3
   },
   "file_extension": ".py",
   "mimetype": "text/x-python",
   "name": "python",
   "nbconvert_exporter": "python",
   "pygments_lexer": "ipython3",
   "version": "3.6.3"
  }
 },
 "nbformat": 4,
 "nbformat_minor": 2
}
