{
 "cells": [
  {
   "cell_type": "code",
   "execution_count": 3,
   "metadata": {
    "collapsed": true
   },
   "outputs": [],
   "source": [
    "import numpy as np\n",
    "import pandas as pd\n",
    "import mat4py as mapy"
   ]
  },
  {
   "cell_type": "code",
   "execution_count": null,
   "metadata": {
    "collapsed": true
   },
   "outputs": [],
   "source": [
    "X_lr = np.array([[1.0000000,2.2873553,0.8908079], [1.0000000,2.4717267,-0.6861101], [1.0000000,0.3836040,-1.6322217], [1.0000000,-2.0572025,-1.0776761], [1.0000000,-2.6066264,0.4676799], [1.0000000,-0.7595301,1.5830532], [1.0000000,1.7858747,1.2429747], [1.0000000,2.6893545,-0.2398890], [1.0000000,1.1202542,-1.5021998], [1.0000000,-1.4788027,-1.3833951], [1.0000000,-2.7182552,0.0072967], [1.0000000,-1.4585564,1.3912800], [1.0000000,1.1421324,1.4961268], [1.0000000,2.6927500,0.2254416], [1.0000000,1.7676656,-1.2525136], [1.0000000,-0.7826024,-1.5789136], [1.0000000,-2.6133493,-0.4536676], [1.0000000,-2.0413950,1.0886782], [1.0000000,0.4074085,1.6300983], [1.0000000,2.4816425,0.6728136]])\n",
    "y_lr = np.array([0 ,0 ,1 ,0 ,0 ,1 ,1 ,0 ,1 ,0 ,0 ,0 ,1 ,0 ,1 ,1 ,0 ,0 ,1 ,0])\n",
    "theta = np.array([0.25,0.5,-0.5])\n",
    "lambda_ = 0.1\n",
    "num_labels = 4"
   ]
  },
  {
   "cell_type": "code",
   "execution_count": 50,
   "metadata": {
    "collapsed": true
   },
   "outputs": [],
   "source": [
    "def sigmoid(z):\n",
    "    return np.divide(1.0, (1+np.exp(-z)))"
   ]
  },
  {
   "cell_type": "code",
   "execution_count": null,
   "metadata": {
    "collapsed": true
   },
   "outputs": [],
   "source": [
    "def costFunctionRegularized(theta, X, y, lambda_):\n",
    "    m = len(y)\n",
    "    J = 0\n",
    "    h_theta = sigmoid(X.dot(theta))\n",
    "    theta_reg = np.insert(theta, 1, 0, axis=0)[1:]\n",
    "    J = (-1/m)*((np.transpose(y).dot(np.log(h_theta))) + (np.transpose(1-y).dot(np.log(1-h_theta)))) + (lambda_/(2*m))*np.transpose(theta_reg).dot(theta_reg)\n",
    "    return J"
   ]
  },
  {
   "cell_type": "code",
   "execution_count": null,
   "metadata": {
    "collapsed": true
   },
   "outputs": [],
   "source": [
    "def gradientFunctionRegularized(theta, X, y,lambda_):\n",
    "    m = len(y)\n",
    "    grad = np.zeros(len(theta))\n",
    "    h_theta = sigmoid(X.dot(theta))\n",
    "    theta_reg = np.insert(theta, 1, 0, axis=0)[1:]\n",
    "    grad = (1/m)*np.transpose(h_theta-y).dot(X) + ((lambda_/m) * theta_reg)\n",
    "    return grad"
   ]
  },
  {
   "cell_type": "code",
   "execution_count": null,
   "metadata": {
    "collapsed": true
   },
   "outputs": [],
   "source": [
    "import scipy.optimize as opt\n",
    "def advanceOptimization(X,y,theta,costFunc,gradientFunc,lambda_):\n",
    "    result = opt.fmin_tnc(func=costFunctionRegularized, x0=theta, fprime=gradientFunctionRegularized, args=(X, y,lambda_))  \n",
    "    return result[0]"
   ]
  },
  {
   "cell_type": "code",
   "execution_count": null,
   "metadata": {
    "collapsed": true
   },
   "outputs": [],
   "source": [
    "def oneVsAll(X, y, num_labels, lambda_):\n",
    "    all_theta = np.zeros(shape=(num_labels,X_lr.shape[1]))\n",
    "    for label in range(1,num_labels):\n",
    "        all_theta[label,:] = advanceOptimization(X,y==label+1,all_theta[label,:],costFunctionRegularized,gradientFunctionRegularized,lambda_)\n",
    "    return all_theta"
   ]
  },
  {
   "cell_type": "code",
   "execution_count": 65,
   "metadata": {
    "collapsed": true
   },
   "outputs": [],
   "source": [
    "data = mapy.loadmat('ex3data1.mat')\n",
    "X_nn = np.array(data['X'])\n",
    "y_nn = np.array(data['y'])\n",
    "input_layer_size  = 400  \n",
    "hidden_layer_size = 25\n",
    "num_labels = 10\n",
    "x0 = np.array([[1] for x in range(len(X_nn))])\n",
    "X_nn = np.hstack((x0, X_nn))"
   ]
  },
  {
   "cell_type": "code",
   "execution_count": 48,
   "metadata": {
    "collapsed": true
   },
   "outputs": [],
   "source": [
    "theta = mapy.loadmat('ex3weights.mat')\n",
    "Theta1 = np.array(theta['Theta1'])\n",
    "Theta2 = np.array(theta['Theta2'])"
   ]
  },
  {
   "cell_type": "code",
   "execution_count": 70,
   "metadata": {},
   "outputs": [
    {
     "data": {
      "text/plain": [
       "array([6, 6, 6, 6, 6, 6, 6, 6, 6, 6])"
      ]
     },
     "execution_count": 70,
     "metadata": {},
     "output_type": "execute_result"
    }
   ],
   "source": [
    "def predictNeuralNetwork(Theta1,Theta2,X):\n",
    "    m = X.shape[0]\n",
    "    p = np.zeros((X.shape[0], 1))\n",
    "    num_labels = Theta2.shape[0]\n",
    "    a2 = sigmoid(X.dot(np.transpose(Theta1)))\n",
    "    a2 = np.hstack((x0, a2))\n",
    "    a3 = sigmoid(a2.dot(np.transpose(Theta2)))\n",
    "    p = np.argmax(a3,axis=1) +1\n",
    "    return p\n",
    "#predictNeuralNetwork(Theta1,Theta2,X_nn)[3100:3110]"
   ]
  }
 ],
 "metadata": {
  "kernelspec": {
   "display_name": "Python 3",
   "language": "python",
   "name": "python3"
  },
  "language_info": {
   "codemirror_mode": {
    "name": "ipython",
    "version": 3
   },
   "file_extension": ".py",
   "mimetype": "text/x-python",
   "name": "python",
   "nbconvert_exporter": "python",
   "pygments_lexer": "ipython3",
   "version": "3.6.3"
  }
 },
 "nbformat": 4,
 "nbformat_minor": 2
}
