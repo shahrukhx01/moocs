{
 "cells": [
  {
   "cell_type": "code",
   "execution_count": 2,
   "metadata": {
    "collapsed": true
   },
   "outputs": [],
   "source": [
    "import numpy as np\n",
    "import pandas as pd\n",
    "import mat4py as mapy"
   ]
  },
  {
   "cell_type": "code",
   "execution_count": 164,
   "metadata": {},
   "outputs": [
    {
     "data": {
      "text/plain": [
       "(3.0874497275825936,\n",
       " array([-0.01210496, -0.00313361,  0.00377415, -0.12775979, -0.00419446,\n",
       "         0.00485751,  0.04255317,  0.00399336, -0.00473318,  0.0997386 ,\n",
       "         0.0013489 , -0.00166596,  0.25504255,  0.18263393,  0.13171215,\n",
       "         0.06930713,  0.17315751, -0.00801634, -0.00807137, -0.00244385,\n",
       "        -0.00108581, -0.00798641,  0.4669105 ,  0.32624273,  0.24870043,\n",
       "         0.12955741,  0.30770798,  0.34100699,  0.23966455,  0.18061387,\n",
       "         0.09393499,  0.22624174]))"
      ]
     },
     "execution_count": 164,
     "metadata": {},
     "output_type": "execute_result"
    }
   ],
   "source": [
    "X = np.array([[1,0.1682942,-0.1922795], [1,0.1818595,-0.1501974], [1,0.0282240, 0.0299754], [1,-0.1513605, 0.1825891], [1,-0.1917849, 0.1673311], [1,-0.0558831,-0.0017703], [1,0.1313973,-0.1692441], [1,0.1978716,-0.1811157], [1,0.0824237,-0.0264704], [1,-0.1088042, 0.1525117], [1,-0.1999980, 0.1912752], [1,-0.1073146, 0.0541812], [1,0.0840334,-0.1327268], [1,0.1981215,-0.1976063], [1,0.1300576,-0.0808075], [1,-0.0575807, 0.1102853]])\n",
    "y = np.array([2 ,3 ,4 ,1 ,2 ,3 ,4 ,1 ,2 ,3 ,4 ,1 ,2 ,3 ,4 ,1])\n",
    "Theta1 = np.array([[0.84147,0.41212,-0.96140], [0.14112,-0.99999,0.14988], [-0.95892,0.42017,0.83666], [0.65699,0.65029,-0.84622]])\n",
    "Theta2 = np.array([[0.5403023,-0.9111303,-0.2751633, 0.9912028,-0.0132767] ,[-0.9899925, 0.0044257, 0.9887046,-0.2921388,-0.9036922] , [0.2836622, 0.9074468,-0.5477293,-0.7480575, 0.7654141] , [0.7539023,-0.7596879,-0.5328330, 0.9147424, 0.2666429]])\n",
    "lambda_ = 0\n",
    "num_labels = 4\n",
    "input_layer_size=2\n",
    "hidden_layer_size=4\n",
    "Theta = np.append(Theta1.flatten(),Theta2.flatten())\n",
    "\n",
    "nnCostFunction(Theta, input_layer_size, hidden_layer_size, num_labels, X, y, lambda_)\n",
    "\n"
   ]
  },
  {
   "cell_type": "code",
   "execution_count": 159,
   "metadata": {
    "collapsed": true
   },
   "outputs": [],
   "source": [
    "def nnCostFunction(nn_params, input_layer_size, hidden_layer_size, num_labels, Xm, ym, lambda_):\n",
    "    Theta1 = np.reshape(nn_params[0:(hidden_layer_size * (input_layer_size + 1))], (hidden_layer_size, (input_layer_size + 1)))\n",
    "    Theta2 = np.reshape(nn_params[( (hidden_layer_size * (input_layer_size + 1))):], (num_labels, (hidden_layer_size + 1)))\n",
    "    m = X.shape[0]\n",
    "    J = 0\n",
    "    Theta1_grad = np.zeros(Theta1.shape)\n",
    "    Theta2_grad = np.zeros(Theta2.shape)\n",
    "    h_matrix = np.zeros((m,num_labels))\n",
    "    y_matrix = np.zeros((m,num_labels))\n",
    "    a2 = sigmoid(X.dot(np.transpose(Theta1)))\n",
    "    x0 = np.array([[1] for x in range(len(Xm))])\n",
    "    a2 = np.hstack((x0, a2))\n",
    "    a3 = sigmoid(a2.dot(np.transpose(Theta2)))\n",
    "    h_matrix = a3\n",
    "    from numpy import matlib as npm\n",
    "    ym_t = ym.reshape(-1, 1)\n",
    "    mask_matrix = npm.repmat(np.arange(4)+1, m, 1)\n",
    "    y_matrix = npm.repmat(ym_t, 1, 4)\n",
    "    y_matrix = 1.0*np.equal(mask_matrix, y_matrix)\n",
    "    J = (-1/m)*sum(np.sum(np.multiply(y_matrix,np.log(h_matrix)) + \n",
    "                          np.multiply(1-y_matrix,np.log(1-h_matrix)),axis=1))\n",
    "    J = J + (lambda_/(2*m)) *(Theta1[:,1:].flatten().dot(np.transpose(Theta1[:,1:].flatten())) + Theta2[:,1:].flatten().dot(np.transpose(Theta2[:,1:].flatten())))\n",
    "    d3 = h_matrix - y_matrix\n",
    "    d2 = np.multiply((d3.dot(Theta2[:,1:])) , sigmoidGradient(X.dot(np.transpose(Theta1))))\n",
    "    Theta10 = np.array([[0] for x in range(len(Theta1))])\n",
    "    Theta20 = np.array([[0] for x in range(len(Theta2))])\n",
    "    Theta_1r = np.hstack((Theta10, Theta1[:,1:]))\n",
    "    Theta_2r = np.hstack((Theta20, Theta2[:,1:]))\n",
    "    Theta1_grad = (1/m)* (np.transpose(d2).dot(X)) + (lambda_/m)*(Theta_1r)\n",
    "    Theta2_grad = (1/m)* (np.transpose(d3).dot(a2)) + (lambda_/m)*(Theta_2r)\n",
    "    Theta = np.append(Theta1_grad.flatten(),Theta2_grad.flatten())\n",
    "        \n",
    "    return (J,Theta)\n",
    "    "
   ]
  },
  {
   "cell_type": "code",
   "execution_count": 56,
   "metadata": {
    "collapsed": true
   },
   "outputs": [],
   "source": [
    "def sigmoid(z):\n",
    "    return np.divide(1.0, (1+np.exp(-z)))"
   ]
  },
  {
   "cell_type": "code",
   "execution_count": 145,
   "metadata": {
    "collapsed": true
   },
   "outputs": [],
   "source": [
    "def sigmoidGradient(z):\n",
    "    return np.multiply(np.divide(1.0, (1+np.exp(-z))),1-np.divide(1.0, (1+np.exp(-z)))) "
   ]
  }
 ],
 "metadata": {
  "kernelspec": {
   "display_name": "Python 3",
   "language": "python",
   "name": "python3"
  },
  "language_info": {
   "codemirror_mode": {
    "name": "ipython",
    "version": 3
   },
   "file_extension": ".py",
   "mimetype": "text/x-python",
   "name": "python",
   "nbconvert_exporter": "python",
   "pygments_lexer": "ipython3",
   "version": "3.6.3"
  }
 },
 "nbformat": 4,
 "nbformat_minor": 2
}
